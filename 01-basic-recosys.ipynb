{
 "cells": [
  {
   "cell_type": "markdown",
   "metadata": {
    "id": "CnunwZVz0Ggs"
   },
   "source": [
    "# 2.1 데이터 읽기\n",
    "- MoviesLens 100K 데이터는 3가지 파일로 구성\n",
    "  1. 사용자 데이터 : u.user\n",
    "  2. 영화에 대한 데이터 : u.item\n",
    "  3. 영화 평가 : u.data"
   ]
  },
  {
   "cell_type": "code",
   "execution_count": 32,
   "metadata": {
    "id": "pFRLPfFn82ub"
   },
   "outputs": [],
   "source": [
    "import pandas as pd"
   ]
  },
  {
   "cell_type": "code",
   "execution_count": 33,
   "metadata": {
    "colab": {
     "base_uri": "https://localhost:8080/",
     "height": 237
    },
    "executionInfo": {
     "elapsed": 607,
     "status": "ok",
     "timestamp": 1634363946191,
     "user": {
      "displayName": "Changhyun Lee",
      "photoUrl": "https://lh3.googleusercontent.com/a/default-user=s64",
      "userId": "11451100969438970157"
     },
     "user_tz": -540
    },
    "id": "KQRVeIEs2F1d",
    "outputId": "635b0158-05d5-4d10-dd16-ebe897a84c38"
   },
   "outputs": [
    {
     "data": {
      "text/html": [
       "<div>\n",
       "<style scoped>\n",
       "    .dataframe tbody tr th:only-of-type {\n",
       "        vertical-align: middle;\n",
       "    }\n",
       "\n",
       "    .dataframe tbody tr th {\n",
       "        vertical-align: top;\n",
       "    }\n",
       "\n",
       "    .dataframe thead th {\n",
       "        text-align: right;\n",
       "    }\n",
       "</style>\n",
       "<table border=\"1\" class=\"dataframe\">\n",
       "  <thead>\n",
       "    <tr style=\"text-align: right;\">\n",
       "      <th></th>\n",
       "      <th>age</th>\n",
       "      <th>sex</th>\n",
       "      <th>occupation</th>\n",
       "      <th>zip_code</th>\n",
       "    </tr>\n",
       "    <tr>\n",
       "      <th>user_id</th>\n",
       "      <th></th>\n",
       "      <th></th>\n",
       "      <th></th>\n",
       "      <th></th>\n",
       "    </tr>\n",
       "  </thead>\n",
       "  <tbody>\n",
       "    <tr>\n",
       "      <th>1</th>\n",
       "      <td>24</td>\n",
       "      <td>M</td>\n",
       "      <td>technician</td>\n",
       "      <td>85711</td>\n",
       "    </tr>\n",
       "    <tr>\n",
       "      <th>2</th>\n",
       "      <td>53</td>\n",
       "      <td>F</td>\n",
       "      <td>other</td>\n",
       "      <td>94043</td>\n",
       "    </tr>\n",
       "  </tbody>\n",
       "</table>\n",
       "</div>"
      ],
      "text/plain": [
       "         age sex  occupation zip_code\n",
       "user_id                              \n",
       "1         24   M  technician    85711\n",
       "2         53   F       other    94043"
      ]
     },
     "execution_count": 33,
     "metadata": {},
     "output_type": "execute_result"
    }
   ],
   "source": [
    "# 사용자 u.user 파일을 DataFrame으로 읽기\n",
    "u_cols = ['user_id','age','sex','occupation','zip_code']\n",
    "users = pd.read_csv(\n",
    "    'u.user', \n",
    "    sep='|', \n",
    "    names=u_cols, \n",
    "    encoding='latin-1'\n",
    ")\n",
    "users = users.set_index('user_id')\n",
    "users.head(2)"
   ]
  },
  {
   "cell_type": "code",
   "execution_count": 34,
   "metadata": {
    "colab": {
     "base_uri": "https://localhost:8080/",
     "height": 396
    },
    "executionInfo": {
     "elapsed": 1004,
     "status": "ok",
     "timestamp": 1634364048295,
     "user": {
      "displayName": "Changhyun Lee",
      "photoUrl": "https://lh3.googleusercontent.com/a/default-user=s64",
      "userId": "11451100969438970157"
     },
     "user_tz": -540
    },
    "id": "OtfFyygc1xpl",
    "outputId": "04ee2bb1-9196-4b91-9761-e054e37f806e"
   },
   "outputs": [
    {
     "data": {
      "text/html": [
       "<div>\n",
       "<style scoped>\n",
       "    .dataframe tbody tr th:only-of-type {\n",
       "        vertical-align: middle;\n",
       "    }\n",
       "\n",
       "    .dataframe tbody tr th {\n",
       "        vertical-align: top;\n",
       "    }\n",
       "\n",
       "    .dataframe thead th {\n",
       "        text-align: right;\n",
       "    }\n",
       "</style>\n",
       "<table border=\"1\" class=\"dataframe\">\n",
       "  <thead>\n",
       "    <tr style=\"text-align: right;\">\n",
       "      <th></th>\n",
       "      <th>title</th>\n",
       "      <th>release date</th>\n",
       "      <th>video release date</th>\n",
       "      <th>IMDB URL</th>\n",
       "      <th>unknown</th>\n",
       "      <th>Action</th>\n",
       "      <th>Adventure</th>\n",
       "      <th>Animation</th>\n",
       "      <th>Children's</th>\n",
       "      <th>Comedy</th>\n",
       "      <th>...</th>\n",
       "      <th>Fantasy</th>\n",
       "      <th>Film-Noir</th>\n",
       "      <th>Horror</th>\n",
       "      <th>Musical</th>\n",
       "      <th>Mystery</th>\n",
       "      <th>Romance</th>\n",
       "      <th>Sci-Fi</th>\n",
       "      <th>Thriller</th>\n",
       "      <th>War</th>\n",
       "      <th>Western</th>\n",
       "    </tr>\n",
       "    <tr>\n",
       "      <th>movie_id</th>\n",
       "      <th></th>\n",
       "      <th></th>\n",
       "      <th></th>\n",
       "      <th></th>\n",
       "      <th></th>\n",
       "      <th></th>\n",
       "      <th></th>\n",
       "      <th></th>\n",
       "      <th></th>\n",
       "      <th></th>\n",
       "      <th></th>\n",
       "      <th></th>\n",
       "      <th></th>\n",
       "      <th></th>\n",
       "      <th></th>\n",
       "      <th></th>\n",
       "      <th></th>\n",
       "      <th></th>\n",
       "      <th></th>\n",
       "      <th></th>\n",
       "      <th></th>\n",
       "    </tr>\n",
       "  </thead>\n",
       "  <tbody>\n",
       "    <tr>\n",
       "      <th>1</th>\n",
       "      <td>Toy Story (1995)</td>\n",
       "      <td>01-Jan-1995</td>\n",
       "      <td>NaN</td>\n",
       "      <td>http://us.imdb.com/M/title-exact?Toy%20Story%2...</td>\n",
       "      <td>0</td>\n",
       "      <td>0</td>\n",
       "      <td>0</td>\n",
       "      <td>1</td>\n",
       "      <td>1</td>\n",
       "      <td>1</td>\n",
       "      <td>...</td>\n",
       "      <td>0</td>\n",
       "      <td>0</td>\n",
       "      <td>0</td>\n",
       "      <td>0</td>\n",
       "      <td>0</td>\n",
       "      <td>0</td>\n",
       "      <td>0</td>\n",
       "      <td>0</td>\n",
       "      <td>0</td>\n",
       "      <td>0</td>\n",
       "    </tr>\n",
       "    <tr>\n",
       "      <th>2</th>\n",
       "      <td>GoldenEye (1995)</td>\n",
       "      <td>01-Jan-1995</td>\n",
       "      <td>NaN</td>\n",
       "      <td>http://us.imdb.com/M/title-exact?GoldenEye%20(...</td>\n",
       "      <td>0</td>\n",
       "      <td>1</td>\n",
       "      <td>1</td>\n",
       "      <td>0</td>\n",
       "      <td>0</td>\n",
       "      <td>0</td>\n",
       "      <td>...</td>\n",
       "      <td>0</td>\n",
       "      <td>0</td>\n",
       "      <td>0</td>\n",
       "      <td>0</td>\n",
       "      <td>0</td>\n",
       "      <td>0</td>\n",
       "      <td>0</td>\n",
       "      <td>1</td>\n",
       "      <td>0</td>\n",
       "      <td>0</td>\n",
       "    </tr>\n",
       "  </tbody>\n",
       "</table>\n",
       "<p>2 rows × 23 columns</p>\n",
       "</div>"
      ],
      "text/plain": [
       "                     title release date  video release date  \\\n",
       "movie_id                                                      \n",
       "1         Toy Story (1995)  01-Jan-1995                 NaN   \n",
       "2         GoldenEye (1995)  01-Jan-1995                 NaN   \n",
       "\n",
       "                                                   IMDB URL  unknown  Action  \\\n",
       "movie_id                                                                       \n",
       "1         http://us.imdb.com/M/title-exact?Toy%20Story%2...        0       0   \n",
       "2         http://us.imdb.com/M/title-exact?GoldenEye%20(...        0       1   \n",
       "\n",
       "          Adventure  Animation  Children's  Comedy  ...  Fantasy  Film-Noir  \\\n",
       "movie_id                                            ...                       \n",
       "1                 0          1           1       1  ...        0          0   \n",
       "2                 1          0           0       0  ...        0          0   \n",
       "\n",
       "          Horror  Musical  Mystery  Romance  Sci-Fi  Thriller  War  Western  \n",
       "movie_id                                                                     \n",
       "1              0        0        0        0       0         0    0        0  \n",
       "2              0        0        0        0       0         1    0        0  \n",
       "\n",
       "[2 rows x 23 columns]"
      ]
     },
     "execution_count": 34,
     "metadata": {},
     "output_type": "execute_result"
    }
   ],
   "source": [
    "# u.item 파일을 DataFrame으로 읽기\n",
    "i_cols = ['movie_id','title','release date','video release date',\n",
    "          'IMDB URL','unknown','Action','Adventure','Animation',\n",
    "          'Children\\'s','Comedy','Crime','Documentary','Drama','Fantasy',\n",
    "          'Film-Noir','Horror','Musical','Mystery','Romance','Sci-Fi','Thriller','War','Western']\n",
    "movies = pd.read_csv(\n",
    "    'u.item', \n",
    "    sep='|',\n",
    "    names=i_cols,\n",
    "    encoding='latin-1'\n",
    ")\n",
    "movies = movies.set_index('movie_id')\n",
    "movies.head(2)"
   ]
  },
  {
   "cell_type": "code",
   "execution_count": 35,
   "metadata": {
    "colab": {
     "base_uri": "https://localhost:8080/",
     "height": 237
    },
    "executionInfo": {
     "elapsed": 903,
     "status": "ok",
     "timestamp": 1634364104785,
     "user": {
      "displayName": "Changhyun Lee",
      "photoUrl": "https://lh3.googleusercontent.com/a/default-user=s64",
      "userId": "11451100969438970157"
     },
     "user_tz": -540
    },
    "id": "9CkxMXSo2M4v",
    "outputId": "f5993231-948f-4fa4-fef9-b9159ff946a8"
   },
   "outputs": [
    {
     "data": {
      "text/html": [
       "<div>\n",
       "<style scoped>\n",
       "    .dataframe tbody tr th:only-of-type {\n",
       "        vertical-align: middle;\n",
       "    }\n",
       "\n",
       "    .dataframe tbody tr th {\n",
       "        vertical-align: top;\n",
       "    }\n",
       "\n",
       "    .dataframe thead th {\n",
       "        text-align: right;\n",
       "    }\n",
       "</style>\n",
       "<table border=\"1\" class=\"dataframe\">\n",
       "  <thead>\n",
       "    <tr style=\"text-align: right;\">\n",
       "      <th></th>\n",
       "      <th>movie_id</th>\n",
       "      <th>rating</th>\n",
       "      <th>timestamp</th>\n",
       "    </tr>\n",
       "    <tr>\n",
       "      <th>user_id</th>\n",
       "      <th></th>\n",
       "      <th></th>\n",
       "      <th></th>\n",
       "    </tr>\n",
       "  </thead>\n",
       "  <tbody>\n",
       "    <tr>\n",
       "      <th>196</th>\n",
       "      <td>242</td>\n",
       "      <td>3</td>\n",
       "      <td>881250949</td>\n",
       "    </tr>\n",
       "    <tr>\n",
       "      <th>186</th>\n",
       "      <td>302</td>\n",
       "      <td>3</td>\n",
       "      <td>891717742</td>\n",
       "    </tr>\n",
       "  </tbody>\n",
       "</table>\n",
       "</div>"
      ],
      "text/plain": [
       "         movie_id  rating  timestamp\n",
       "user_id                             \n",
       "196           242       3  881250949\n",
       "186           302       3  891717742"
      ]
     },
     "execution_count": 35,
     "metadata": {},
     "output_type": "execute_result"
    }
   ],
   "source": [
    "# u.data 파일을 DataFrame으로 읽기\n",
    "r_cols = ['user_id','movie_id','rating','timestamp']\n",
    "ratings = pd.read_csv(\n",
    "    'u.data',\n",
    "    sep='\\t',\n",
    "    names=r_cols,\n",
    "    encoding= 'latin-1'\n",
    ")\n",
    "ratings = ratings.set_index('user_id')\n",
    "ratings.head(2)"
   ]
  },
  {
   "cell_type": "markdown",
   "metadata": {
    "id": "BTjCBKKU2VeC"
   },
   "source": [
    "---\n",
    "# 2.2 인기제품 방식"
   ]
  },
  {
   "cell_type": "code",
   "execution_count": 36,
   "metadata": {
    "id": "i2Ew2uM1WUjR"
   },
   "outputs": [
    {
     "data": {
      "text/plain": [
       "movie_id\n",
       "814                         Great Day in Harlem, A (1994)\n",
       "1599                        Someone Else's America (1995)\n",
       "1201           Marlene Dietrich: Shadow and Light (1996) \n",
       "1122                       They Made Me a Criminal (1939)\n",
       "1653    Entertaining Angels: The Dorothy Day Story (1996)\n",
       "Name: title, dtype: object"
      ]
     },
     "execution_count": 36,
     "metadata": {},
     "output_type": "execute_result"
    }
   ],
   "source": [
    "# 개별 사용자에 대한 정보가 거의 없거나 간단한 추천만을 제공할 때 사용\n",
    "# 모든 사용자에게 인기 있는 제품을 추천 (best-seller)\n",
    "# 각 제품에 대한 평가의 평균을 구해 높은 순서대로 추천해보자\n",
    "\n",
    "def rec_movie(n_items):\n",
    "    movie_mean = ratings.groupby(['movie_id'])['rating'].mean()\n",
    "    movie_sort = movie_mean.sort_values(ascending=False)[:n_items]\n",
    "    recommendations = movies.loc[movie_sort.index]['title']\n",
    "    return recommendations\n",
    "\n",
    "rec_movie(5)"
   ]
  },
  {
   "cell_type": "markdown",
   "metadata": {
    "id": "P8GA614429gn"
   },
   "source": [
    "---\n",
    "# 2.3 추천 시스템의 정확도 측정"
   ]
  },
  {
   "cell_type": "code",
   "execution_count": 37,
   "metadata": {
    "colab": {
     "base_uri": "https://localhost:8080/"
    },
    "executionInfo": {
     "elapsed": 1532,
     "status": "ok",
     "timestamp": 1634366050684,
     "user": {
      "displayName": "Changhyun Lee",
      "photoUrl": "https://lh3.googleusercontent.com/a/default-user=s64",
      "userId": "11451100969438970157"
     },
     "user_tz": -540
    },
    "id": "I3Y1KaNm3D1I",
    "outputId": "671cbb06-aadb-4a70-cad3-75c28e7443ba"
   },
   "outputs": [],
   "source": [
    "# 영화 평점에 대해서 실제값과 best-seller 방식으로 구한 예측값의 RMSE를 계산\n",
    "import numpy as np\n",
    "\n",
    "def RMSE(y, y_pred):\n",
    "    return np.sqrt(np.mean((np.array(y) - np.array(y_pred))**2))"
   ]
  },
  {
   "cell_type": "code",
   "execution_count": 38,
   "metadata": {},
   "outputs": [
    {
     "name": "stdout",
     "output_type": "stream",
     "text": [
      "0.996007224010567\n"
     ]
    }
   ],
   "source": [
    "# 정확도 계산 \n",
    "rmse = []\n",
    "movie_mean = ratings.groupby(['movie_id'])['rating'].mean()\n",
    "\n",
    "for user in set(ratings.index):\n",
    "    # 각 사용자가 평가한 모든 영화의 평점을 y에 저장 \n",
    "    y = ratings.loc[user, 'rating']\n",
    "    # best-seller 방식으로 예측 \n",
    "    y_pred = movie_mean[ratings.loc[user, 'movie_id']]\n",
    "    accuracy = RMSE(y, y_pred)\n",
    "    rmse.append(accuracy)\n",
    "\n",
    "print(np.mean(rmse))"
   ]
  },
  {
   "cell_type": "markdown",
   "metadata": {
    "id": "y45Hfn-u306z"
   },
   "source": [
    "---\n",
    "# 2.4 사용자 집단별 추천"
   ]
  },
  {
   "cell_type": "code",
   "execution_count": 39,
   "metadata": {
    "executionInfo": {
     "elapsed": 3592,
     "status": "ok",
     "timestamp": 1682774402011,
     "user": {
      "displayName": "Changhyun Lee",
      "userId": "11451100969438970157"
     },
     "user_tz": -540
    },
    "id": "DqaUHE3P30LD"
   },
   "outputs": [
    {
     "data": {
      "text/plain": [
       "1.0258108908333214"
      ]
     },
     "execution_count": 39,
     "metadata": {},
     "output_type": "execute_result"
    }
   ],
   "source": [
    "# 전체 사용자를 대상으로 best-seller를 구하면 실젯값과의 noise가 커질 것 \n",
    "# 집단을 나누기 위한 변수를 설정하자 (여기서는 성별)\n",
    "from sklearn.model_selection import train_test_split\n",
    "\n",
    "users = users.reset_index()\n",
    "movies = movies.reset_index()\n",
    "ratings = ratings.reset_index()\n",
    "\n",
    "# train/test set을 분리한 후 best-seller를 찾아 보자 \n",
    "X = ratings.copy()\n",
    "y = ratings['user_id']\n",
    "X_train, X_test, y_train, y_test = train_test_split(X, y, test_size=0.2, stratify=y)\n",
    "\n",
    "# 모델별 RMSE를 계산할 수 있도록 \n",
    "def score(model):\n",
    "    id_pairs = zip(X_test['user_id'], X_test['movie_id'])\n",
    "    y_pred = np.array([model(user, movie) for (user, movie) in id_pairs])\n",
    "    y = np.array(X_test['rating'])\n",
    "    return RMSE(y, y_pred)\n",
    "\n",
    "train_mean = X_train.groupby(['movie_id'])['rating'].mean()\n",
    "\n",
    "def best_seller(user_id, movie_id):\n",
    "    try: rating = train_mean[movie_id]\n",
    "    except: rating = 3.0\n",
    "    return rating\n",
    "\n",
    "score(best_seller)"
   ]
  },
  {
   "cell_type": "code",
   "execution_count": 40,
   "metadata": {},
   "outputs": [],
   "source": [
    "# 성별에 따른 예측값 계산\n",
    "merged_ratings = pd.merge(X_train, users)\n",
    "users = users.set_index('user_id')\n",
    "g_mean = merged_ratings[['movie_id', 'sex', 'rating']].groupby(['movie_id', 'sex'])['rating'].mean()\n",
    "\n",
    "rating_matrix = X_train.pivot(\n",
    "    index='user_id',\n",
    "    columns='movie_id',\n",
    "    values='rating'\n",
    ")"
   ]
  },
  {
   "cell_type": "code",
   "execution_count": 41,
   "metadata": {},
   "outputs": [
    {
     "data": {
      "text/plain": [
       "(943, 1647)"
      ]
     },
     "execution_count": 41,
     "metadata": {},
     "output_type": "execute_result"
    }
   ],
   "source": [
    "rating_matrix.shape"
   ]
  },
  {
   "cell_type": "code",
   "execution_count": 42,
   "metadata": {},
   "outputs": [
    {
     "data": {
      "text/plain": [
       "1.0361820582655747"
      ]
     },
     "execution_count": 42,
     "metadata": {},
     "output_type": "execute_result"
    }
   ],
   "source": [
    "# 성별에 따른 추천\n",
    "def cf_gender(user_id, movie_id):\n",
    "    if movie_id in rating_matrix.columns:\n",
    "        gender = users.loc[user_id]['sex']\n",
    "        if gender in g_mean[movie_id].index:\n",
    "            gender_rating = g_mean[movie_id][gender]\n",
    "        else:\n",
    "            gender_rating = 3.0\n",
    "    else:\n",
    "        gender_rating = 3.0\n",
    "    return gender_rating\n",
    "\n",
    "score(cf_gender)"
   ]
  },
  {
   "cell_type": "markdown",
   "metadata": {},
   "source": [
    "###### 성별을 나누어 추천했을 때 추천 성능에는 별다른 개선이 없었다. "
   ]
  }
 ],
 "metadata": {
  "colab": {
   "authorship_tag": "ABX9TyOsgiteoj2BuV77v9kddVjp",
   "machine_shape": "hm",
   "mount_file_id": "1V7-DRvExiTZqe9lmEBdzQU-jtta_5PEs",
   "provenance": []
  },
  "kernelspec": {
   "display_name": "base",
   "language": "python",
   "name": "python3"
  },
  "language_info": {
   "codemirror_mode": {
    "name": "ipython",
    "version": 3
   },
   "file_extension": ".py",
   "mimetype": "text/x-python",
   "name": "python",
   "nbconvert_exporter": "python",
   "pygments_lexer": "ipython3",
   "version": "3.12.3"
  }
 },
 "nbformat": 4,
 "nbformat_minor": 0
}
