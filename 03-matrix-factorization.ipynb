{
 "cells": [
  {
   "cell_type": "markdown",
   "metadata": {
    "id": "uwg64XeLXB0N"
   },
   "source": [
    "# 1. Matrix Factorization with SGD"
   ]
  },
  {
   "cell_type": "code",
   "execution_count": 12,
   "metadata": {},
   "outputs": [],
   "source": [
    "import pandas as pd\n",
    "import numpy as np"
   ]
  },
  {
   "cell_type": "code",
   "execution_count": 13,
   "metadata": {},
   "outputs": [],
   "source": [
    "u_cols = ['user_id','age','sex','occupation','zip_code']\n",
    "users = pd.read_csv(\n",
    "    'u.user',\n",
    "    sep='|',\n",
    "    names=u_cols,\n",
    "    encoding='latin-1'\n",
    ")\n",
    "users = users.set_index('user_id')\n",
    "\n",
    "i_cols = ['movie_id','title','release date','video release date',\n",
    "          'IMDB URL','unknown','Action','Adventure','Animation',\n",
    "          'Children\\'s','Comedy','Crime','Documentary','Drama','Fantasy',\n",
    "          'Film-Noir','Horror','Musical','Mystery','Romance','Sci-Fi','Thriller',\n",
    "          'War','Western']\n",
    "movies = pd.read_csv(\n",
    "    'u.item',\n",
    "    sep='|',\n",
    "    names=i_cols,\n",
    "    encoding='latin-1'\n",
    ")\n",
    "movies = movies.set_index('movie_id')\n",
    "\n",
    "r_cols = ['user_id','movie_id','rating','timestamp']\n",
    "ratings = pd.read_csv(\n",
    "    'u.data',\n",
    "    sep='\\t',\n",
    "    names=r_cols,\n",
    "    encoding='latin-1'\n",
    ")\n",
    "ratings = ratings[['user_id', 'movie_id', 'rating']].astype(int)"
   ]
  },
  {
   "cell_type": "code",
   "execution_count": 14,
   "metadata": {},
   "outputs": [
    {
     "name": "stdout",
     "output_type": "stream",
     "text": [
      "Iteration : 10 ; train RMSE = 0.9585\n",
      "Iteration : 20 ; train RMSE = 0.9374\n",
      "Iteration : 30 ; train RMSE = 0.9281\n",
      "Iteration : 40 ; train RMSE = 0.9226\n",
      "Iteration : 50 ; train RMSE = 0.9186\n",
      "Iteration : 60 ; train RMSE = 0.9149\n",
      "Iteration : 70 ; train RMSE = 0.9105\n",
      "Iteration : 80 ; train RMSE = 0.9047\n",
      "Iteration : 90 ; train RMSE = 0.8964\n",
      "Iteration : 100 ; train RMSE = 0.8851\n"
     ]
    }
   ],
   "source": [
    "class MF():\n",
    "  def __init__(self,ratings,hyper_params):\n",
    "    self.R = np.array(ratings)\n",
    "    self.num_users,self.num_items = np.shape(self.R)\n",
    "    self.K = hyper_params['K']\n",
    "    self.alpha = hyper_params['alpha']\n",
    "    self.beta = hyper_params['beta']\n",
    "    self.iterations = hyper_params['iterations']\n",
    "    self.verbose = hyper_params['verbose']\n",
    "\n",
    "  def rmse(self):\n",
    "    xs,ys = self.R.nonzero()\n",
    "    self.predictions = []\n",
    "    self.errors = []\n",
    "\n",
    "    for x,y in zip(xs,ys):\n",
    "      prediction = self.get_prediction(x,y)\n",
    "      self.predictions.append(prediction)\n",
    "      self.errors.append(self.R[x,y] - prediction)\n",
    "    self.predictions = np.array(self.predictions)\n",
    "    self.errors = np.array(self.errors)\n",
    "\n",
    "    return np.sqrt(np.mean(self.errors**2))\n",
    "\n",
    "  def train(self):\n",
    "    self.P = np.random.normal(scale=1./self.K,\n",
    "                              size=(self.num_users,self.K))\n",
    "    self.Q = np.random.normal(scale=1./self.K,\n",
    "                              size=(self.num_items,self.K))\n",
    "\n",
    "    self.b_u = np.zeros(self.num_users)\n",
    "    self.b_d = np.zeros(self.num_items)\n",
    "    self.b = np.mean(self.R[self.R.nonzero()])\n",
    "\n",
    "    rows,columns = self.R.nonzero()\n",
    "    self.samples = [(i,j,self.R[i,j]) for i,j in zip(rows,columns)]\n",
    "\n",
    "    training_process = []\n",
    "    for i in range(self.iterations):\n",
    "      np.random.shuffle(self.samples)\n",
    "      self.sgd()\n",
    "      rmse = self.rmse()\n",
    "      training_process.append((i+1,rmse))\n",
    "      if self.verbose:\n",
    "        if (i+1) % 10 ==0:\n",
    "          print('Iteration : %d ; train RMSE = %.4f'%(i+1,rmse))\n",
    "    return training_process\n",
    "\n",
    "  def get_prediction(self,i,j):\n",
    "    prediction = self.b + self.b_u[i] + self.b_d[j] + self.P[i,:].dot(self.Q[j,].T)\n",
    "    return prediction\n",
    "\n",
    "  def sgd(self):\n",
    "    for i,j,r in self.samples:\n",
    "      prediction = self.get_prediction(i,j)\n",
    "      e = (r-prediction)\n",
    "\n",
    "      self.b_u[i] += self.alpha * (e - (self.beta * self.b_u[i]))\n",
    "      self.b_d[j] += self.alpha * (e - (self.beta * self.b_d[j]))\n",
    "\n",
    "      self.P[i,:] += self.alpha * ((e * self.Q[j,:]) - (self.beta * self.P[i,:]))\n",
    "      self.Q[j,:] += self.alpha * ((e * self.P[i,:]) - (self.beta * self.Q[j,:]))\n",
    "\n",
    "R_temp = ratings.pivot(index='user_id',\n",
    "                       columns='movie_id',\n",
    "                       values='rating').fillna(0)\n",
    "\n",
    "hyper_params = {\n",
    "    'K' : 30,\n",
    "    'alpha' : 0.001,\n",
    "    'beta' : 0.02,\n",
    "    'iterations' : 100,\n",
    "    'verbose' : True\n",
    "}\n",
    "\n",
    "mf = MF(R_temp, hyper_params)\n",
    "\n",
    "train_process = mf.train()"
   ]
  },
  {
   "cell_type": "markdown",
   "metadata": {
    "id": "WYzlQ5h-gbwW"
   },
   "source": [
    "---\n",
    "# 2. train/test 분리 MF"
   ]
  },
  {
   "cell_type": "code",
   "execution_count": 15,
   "metadata": {
    "id": "7x1Y0pL6tdVl"
   },
   "outputs": [],
   "source": [
    "from sklearn.model_selection import train_test_split\n",
    "from sklearn.utils import shuffle\n",
    "TRAIN_SIZE = 0.8\n",
    "\n",
    "ratings = shuffle(ratings, random_state=2025)\n",
    "cutoff = int(TRAIN_SIZE * len(ratings))\n",
    "ratings_train = ratings.iloc[:cutoff]\n",
    "ratings_test = ratings.iloc[cutoff:]"
   ]
  },
  {
   "cell_type": "code",
   "execution_count": 16,
   "metadata": {},
   "outputs": [],
   "source": [
    "class NEW_MF():\n",
    "  def __init__(self,ratings,hyper_params):\n",
    "    self.R = np.array(ratings)\n",
    "    self.num_users,self.num_items = np.shape(self.R)\n",
    "    # MF weight 조절을 위한 parameter \n",
    "    self.K = hyper_params['K'] # K : n of latent factor \n",
    "    self.alpha = hyper_params['alpha'] # alpha : lr\n",
    "    self.beta = hyper_params['beta'] # beta : norm coef\n",
    "    self.iterations = hyper_params['iterations'] # iterations : SGD 반복 횟수 \n",
    "    self.verbose = hyper_params['verbose'] # verbose : 학습과정을 중간중간 출력할지 여부 \n",
    "\n",
    "    item_id_index = []\n",
    "    index_item_id = []\n",
    "    for i, one_id in enumerate(ratings):\n",
    "      item_id_index.append([one_id,i])\n",
    "      index_item_id.append([i,one_id])\n",
    "    self.item_id_index = dict(item_id_index)\n",
    "    self.index_item_id = dict(index_item_id)\n",
    "\n",
    "    user_id_index = []\n",
    "    index_user_id = []\n",
    "    for i,one_id in enumerate(ratings.T):\n",
    "      user_id_index.append([one_id,i])\n",
    "      index_user_id.append([i,one_id])\n",
    "    self.user_id_index = dict(user_id_index)\n",
    "    self.index_user_id = dict(index_user_id)\n",
    "\n",
    "\n",
    "  def rmse(self):\n",
    "    xs, ys = self.R.nonzero() # 평점이 0이 아닌 요소의 index\n",
    "    self.predictions = []\n",
    "    self.errors = []\n",
    "    # 평점이 있는 요소들에 대해 \n",
    "    for x,y in zip(xs,ys):\n",
    "      prediction = self.get_prediction(x,y)\n",
    "      self.predictions.append(prediction)\n",
    "      self.errors.append(self.R[x,y] - prediction)\n",
    "    self.predictions = np.array(self.predictions)\n",
    "    self.errors = np.array(self.errors)\n",
    "    return np.sqrt(np.mean(self.errors**2))\n",
    "\n",
    "\n",
    "  def sgd(self):\n",
    "    for i,j,r in self.samples:\n",
    "      # 사용자 i, 아이템 j\n",
    "      prediction = self.get_prediction(i,j) \n",
    "      e = (r - prediction) # 오차 계산 \n",
    "\n",
    "      # 사용자 평가 경향 계산 및 업데이트\n",
    "      self.b_u[i] += self.alpha * (e - (self.beta * self.b_u[i]))\n",
    "      # 아이템 평가 경향 계산 및 업데이트\n",
    "      self.b_d[j] += self.alpha * (e - (self.beta * self.b_d[j]))\n",
    "\n",
    "      self.P[i,:] += self.alpha * ((e * self.Q[j,:]) - (self.beta * self.P[i,:]))\n",
    "      self.Q[j,:] += self.alpha * ((e * self.P[i,:]) - (self.beta * self.Q[j,:]))\n",
    "\n",
    "  def get_prediction(self,i,j):\n",
    "    # 사용자 i, 아이템 j에 대한 평점 예측치 \n",
    "    prediction = self.b + self.b_u[i] + self.b_d[j] + self.P[i,:].dot(self.Q[j,:].T)\n",
    "    return prediction\n",
    "\n",
    "\n",
    "  # Test set 선정\n",
    "  def set_test(self,ratings_test):\n",
    "    test_set = []\n",
    "    for i in range(len(ratings_test)):\n",
    "      x = self.user_id_index[ratings_test.iloc[i,0]]\n",
    "      y = self.item_id_index[ratings_test.iloc[i,1]]\n",
    "      z = ratings_test.iloc[i,2]\n",
    "      test_set.append([x,y,z])\n",
    "      self.R[x,y] = 0\n",
    "    self.test_set = test_set\n",
    "    return test_set\n",
    "\n",
    "\n",
    "  # Test set RMSE \n",
    "  def test_rmse(self):\n",
    "    error = 0\n",
    "    for one_set in self.test_set:\n",
    "      predicted = self.get_prediction(one_set[0],one_set[1])\n",
    "      # e => e^2\n",
    "      error += pow(one_set[2] - predicted,2)\n",
    "    return np.sqrt(error/len(self.test_set))\n",
    "\n",
    "  def test(self):\n",
    "    self.P = np.random.normal(scale=1./self.K,\n",
    "                              size=(self.num_users,self.K))\n",
    "    self.Q = np.random.normal(scale=1./self.K,\n",
    "                              size=(self.num_items,self.K))\n",
    "\n",
    "    self.b_u = np.zeros(self.num_users)\n",
    "    self.b_d = np.zeros(self.num_items)\n",
    "    self.b = np.mean(self.R[self.R.nonzero()])\n",
    "\n",
    "    rows,columns = self.R.nonzero()\n",
    "    self.samples = [(i,j,self.R[i,j]) for i,j in zip(rows,columns)]\n",
    "\n",
    "    training_process = []\n",
    "    for i in range(self.iterations):\n",
    "      np.random.shuffle(self.samples)\n",
    "      self.sgd()\n",
    "      rmse1 = self.rmse()\n",
    "      rmse2 = self.test_rmse()\n",
    "      training_process.append((i+1,rmse1,rmse2))\n",
    "      if self.verbose:\n",
    "        if (i+1) % 10 == 0:\n",
    "          print('Iteration : %d ; Train RMSE = %.4f ; Test RMSE = %.4f'% (i+1 ,rmse1,rmse2))\n",
    "    return training_process\n",
    "\n",
    "  def get_one_prediction(self,user_id,item_id):\n",
    "    return self.get_prediction(self.user_id_index[user_id],\n",
    "                               self.item_id_index[item_id])\n",
    "  def full_prediction(self):\n",
    "    return self.b + self.b_u[:,np.newaxis] + self.b_d[np.newaxis,:] + self.P.dot(self.Q.T)"
   ]
  },
  {
   "cell_type": "code",
   "execution_count": 17,
   "metadata": {},
   "outputs": [],
   "source": [
    "R_temp = ratings.pivot(\n",
    "    index='user_id',\n",
    "    columns='movie_id',\n",
    "    values='rating'\n",
    ").fillna(0)"
   ]
  },
  {
   "cell_type": "code",
   "execution_count": 18,
   "metadata": {},
   "outputs": [],
   "source": [
    "hyper_params = {\n",
    "    'K':30,\n",
    "    'alpha':0.001,\n",
    "    'beta':0.02,\n",
    "    'iterations':100,\n",
    "    'verbose':True\n",
    "}"
   ]
  },
  {
   "cell_type": "code",
   "execution_count": 19,
   "metadata": {},
   "outputs": [
    {
     "name": "stdout",
     "output_type": "stream",
     "text": [
      "Iteration : 10 ; Train RMSE = 0.9669 ; Test RMSE = 0.9722\n",
      "Iteration : 20 ; Train RMSE = 0.9430 ; Test RMSE = 0.9523\n",
      "Iteration : 30 ; Train RMSE = 0.9322 ; Test RMSE = 0.9443\n",
      "Iteration : 40 ; Train RMSE = 0.9257 ; Test RMSE = 0.9400\n",
      "Iteration : 50 ; Train RMSE = 0.9211 ; Test RMSE = 0.9374\n",
      "Iteration : 60 ; Train RMSE = 0.9173 ; Test RMSE = 0.9358\n",
      "Iteration : 70 ; Train RMSE = 0.9136 ; Test RMSE = 0.9345\n",
      "Iteration : 80 ; Train RMSE = 0.9095 ; Test RMSE = 0.9333\n",
      "Iteration : 90 ; Train RMSE = 0.9043 ; Test RMSE = 0.9320\n",
      "Iteration : 100 ; Train RMSE = 0.8973 ; Test RMSE = 0.9302\n"
     ]
    }
   ],
   "source": [
    "mf = NEW_MF(R_temp,hyper_params)\n",
    "test_set = mf.set_test(ratings_test)\n",
    "result = mf.test()"
   ]
  },
  {
   "cell_type": "markdown",
   "metadata": {
    "id": "a48EzIXWteFY"
   },
   "source": [
    "---\n",
    "# 3. MF의 최적 파라미터 찾기"
   ]
  },
  {
   "cell_type": "code",
   "execution_count": 23,
   "metadata": {
    "id": "AC-wdlyGwx8A"
   },
   "outputs": [
    {
     "name": "stdout",
     "output_type": "stream",
     "text": [
      "K : 50\n",
      "Iteration : 10 ; Train RMSE = 0.9671 ; Test RMSE = 0.9721\n",
      "Iteration : 20 ; Train RMSE = 0.9434 ; Test RMSE = 0.9522\n",
      "Iteration : 30 ; Train RMSE = 0.9329 ; Test RMSE = 0.9442\n",
      "K : 75\n",
      "Iteration : 10 ; Train RMSE = 0.9672 ; Test RMSE = 0.9721\n",
      "Iteration : 20 ; Train RMSE = 0.9436 ; Test RMSE = 0.9522\n",
      "Iteration : 30 ; Train RMSE = 0.9332 ; Test RMSE = 0.9442\n",
      "K : 100\n",
      "Iteration : 10 ; Train RMSE = 0.9673 ; Test RMSE = 0.9721\n",
      "Iteration : 20 ; Train RMSE = 0.9438 ; Test RMSE = 0.9522\n",
      "Iteration : 30 ; Train RMSE = 0.9334 ; Test RMSE = 0.9442\n",
      "K : 125\n",
      "Iteration : 10 ; Train RMSE = 0.9673 ; Test RMSE = 0.9721\n",
      "Iteration : 20 ; Train RMSE = 0.9438 ; Test RMSE = 0.9522\n",
      "Iteration : 30 ; Train RMSE = 0.9335 ; Test RMSE = 0.9442\n",
      "K : 150\n",
      "Iteration : 10 ; Train RMSE = 0.9674 ; Test RMSE = 0.9721\n",
      "Iteration : 20 ; Train RMSE = 0.9439 ; Test RMSE = 0.9522\n",
      "Iteration : 30 ; Train RMSE = 0.9336 ; Test RMSE = 0.9442\n",
      "K : 175\n",
      "Iteration : 10 ; Train RMSE = 0.9674 ; Test RMSE = 0.9721\n",
      "Iteration : 20 ; Train RMSE = 0.9439 ; Test RMSE = 0.9522\n",
      "Iteration : 30 ; Train RMSE = 0.9337 ; Test RMSE = 0.9442\n",
      "K : 200\n",
      "Iteration : 10 ; Train RMSE = 0.9674 ; Test RMSE = 0.9721\n",
      "Iteration : 20 ; Train RMSE = 0.9439 ; Test RMSE = 0.9522\n",
      "Iteration : 30 ; Train RMSE = 0.9337 ; Test RMSE = 0.9442\n",
      "K : 225\n",
      "Iteration : 10 ; Train RMSE = 0.9674 ; Test RMSE = 0.9721\n",
      "Iteration : 20 ; Train RMSE = 0.9440 ; Test RMSE = 0.9522\n",
      "Iteration : 30 ; Train RMSE = 0.9337 ; Test RMSE = 0.9442\n",
      "K : 250\n",
      "Iteration : 10 ; Train RMSE = 0.9674 ; Test RMSE = 0.9721\n",
      "Iteration : 20 ; Train RMSE = 0.9440 ; Test RMSE = 0.9522\n",
      "Iteration : 30 ; Train RMSE = 0.9338 ; Test RMSE = 0.9442\n"
     ]
    }
   ],
   "source": [
    "# 최적의 K 값 찾기\n",
    "results = []\n",
    "index = []\n",
    "\n",
    "R_temp = ratings.pivot(index='user_id',\n",
    "                       columns='movie_id',\n",
    "                       values='rating').fillna(0)\n",
    "for K in range(50,251,25):\n",
    "  print(f'K : {K}')\n",
    "  hyper_params = {\n",
    "      'K': K,\n",
    "      'alpha' : 0.001,\n",
    "      'beta' : 0.02,\n",
    "      'iterations' : 30,\n",
    "      'verbose' : True\n",
    "  }\n",
    "  mf = NEW_MF(R_temp,\n",
    "              hyper_params)\n",
    "  test_set = mf.set_test(ratings_test)\n",
    "  result = mf.test()\n",
    "  index.append(K)\n",
    "  results.append(result)"
   ]
  },
  {
   "cell_type": "code",
   "execution_count": 25,
   "metadata": {},
   "outputs": [],
   "source": [
    "summary = []\n",
    "for i in range(len(results)):\n",
    "  RMSE = []\n",
    "  for result in results[i]:\n",
    "    RMSE.append(result[2])\n",
    "  min = np.min(RMSE)\n",
    "  j = RMSE.index(min)\n",
    "  summary.append([index[i],j+1,RMSE[j]])"
   ]
  },
  {
   "cell_type": "code",
   "execution_count": 46,
   "metadata": {},
   "outputs": [
    {
     "data": {
      "application/vnd.plotly.v1+json": {
       "config": {
        "plotlyServerURL": "https://plot.ly"
       },
       "data": [
        {
         "hovertemplate": "0=%{x}<br>2=%{y}<extra></extra>",
         "legendgroup": "",
         "line": {
          "color": "#636efa",
          "dash": "solid"
         },
         "marker": {
          "symbol": "circle"
         },
         "mode": "lines",
         "name": "",
         "orientation": "v",
         "showlegend": false,
         "type": "scatter",
         "x": [
          50,
          75,
          100,
          125,
          150,
          175,
          200,
          225,
          250
         ],
         "xaxis": "x",
         "y": [
          0.9442045267253314,
          0.9442110728816041,
          0.9441705850180393,
          0.9442256665764631,
          0.9441584026766641,
          0.9441900058501557,
          0.9442007425039641,
          0.9441813182671959,
          0.9441952475310678
         ],
         "yaxis": "y"
        }
       ],
       "layout": {
        "legend": {
         "tracegroupgap": 0
        },
        "margin": {
         "t": 60
        },
        "template": {
         "data": {
          "bar": [
           {
            "error_x": {
             "color": "#2a3f5f"
            },
            "error_y": {
             "color": "#2a3f5f"
            },
            "marker": {
             "line": {
              "color": "#E5ECF6",
              "width": 0.5
             },
             "pattern": {
              "fillmode": "overlay",
              "size": 10,
              "solidity": 0.2
             }
            },
            "type": "bar"
           }
          ],
          "barpolar": [
           {
            "marker": {
             "line": {
              "color": "#E5ECF6",
              "width": 0.5
             },
             "pattern": {
              "fillmode": "overlay",
              "size": 10,
              "solidity": 0.2
             }
            },
            "type": "barpolar"
           }
          ],
          "carpet": [
           {
            "aaxis": {
             "endlinecolor": "#2a3f5f",
             "gridcolor": "white",
             "linecolor": "white",
             "minorgridcolor": "white",
             "startlinecolor": "#2a3f5f"
            },
            "baxis": {
             "endlinecolor": "#2a3f5f",
             "gridcolor": "white",
             "linecolor": "white",
             "minorgridcolor": "white",
             "startlinecolor": "#2a3f5f"
            },
            "type": "carpet"
           }
          ],
          "choropleth": [
           {
            "colorbar": {
             "outlinewidth": 0,
             "ticks": ""
            },
            "type": "choropleth"
           }
          ],
          "contour": [
           {
            "colorbar": {
             "outlinewidth": 0,
             "ticks": ""
            },
            "colorscale": [
             [
              0,
              "#0d0887"
             ],
             [
              0.1111111111111111,
              "#46039f"
             ],
             [
              0.2222222222222222,
              "#7201a8"
             ],
             [
              0.3333333333333333,
              "#9c179e"
             ],
             [
              0.4444444444444444,
              "#bd3786"
             ],
             [
              0.5555555555555556,
              "#d8576b"
             ],
             [
              0.6666666666666666,
              "#ed7953"
             ],
             [
              0.7777777777777778,
              "#fb9f3a"
             ],
             [
              0.8888888888888888,
              "#fdca26"
             ],
             [
              1,
              "#f0f921"
             ]
            ],
            "type": "contour"
           }
          ],
          "contourcarpet": [
           {
            "colorbar": {
             "outlinewidth": 0,
             "ticks": ""
            },
            "type": "contourcarpet"
           }
          ],
          "heatmap": [
           {
            "colorbar": {
             "outlinewidth": 0,
             "ticks": ""
            },
            "colorscale": [
             [
              0,
              "#0d0887"
             ],
             [
              0.1111111111111111,
              "#46039f"
             ],
             [
              0.2222222222222222,
              "#7201a8"
             ],
             [
              0.3333333333333333,
              "#9c179e"
             ],
             [
              0.4444444444444444,
              "#bd3786"
             ],
             [
              0.5555555555555556,
              "#d8576b"
             ],
             [
              0.6666666666666666,
              "#ed7953"
             ],
             [
              0.7777777777777778,
              "#fb9f3a"
             ],
             [
              0.8888888888888888,
              "#fdca26"
             ],
             [
              1,
              "#f0f921"
             ]
            ],
            "type": "heatmap"
           }
          ],
          "heatmapgl": [
           {
            "colorbar": {
             "outlinewidth": 0,
             "ticks": ""
            },
            "colorscale": [
             [
              0,
              "#0d0887"
             ],
             [
              0.1111111111111111,
              "#46039f"
             ],
             [
              0.2222222222222222,
              "#7201a8"
             ],
             [
              0.3333333333333333,
              "#9c179e"
             ],
             [
              0.4444444444444444,
              "#bd3786"
             ],
             [
              0.5555555555555556,
              "#d8576b"
             ],
             [
              0.6666666666666666,
              "#ed7953"
             ],
             [
              0.7777777777777778,
              "#fb9f3a"
             ],
             [
              0.8888888888888888,
              "#fdca26"
             ],
             [
              1,
              "#f0f921"
             ]
            ],
            "type": "heatmapgl"
           }
          ],
          "histogram": [
           {
            "marker": {
             "pattern": {
              "fillmode": "overlay",
              "size": 10,
              "solidity": 0.2
             }
            },
            "type": "histogram"
           }
          ],
          "histogram2d": [
           {
            "colorbar": {
             "outlinewidth": 0,
             "ticks": ""
            },
            "colorscale": [
             [
              0,
              "#0d0887"
             ],
             [
              0.1111111111111111,
              "#46039f"
             ],
             [
              0.2222222222222222,
              "#7201a8"
             ],
             [
              0.3333333333333333,
              "#9c179e"
             ],
             [
              0.4444444444444444,
              "#bd3786"
             ],
             [
              0.5555555555555556,
              "#d8576b"
             ],
             [
              0.6666666666666666,
              "#ed7953"
             ],
             [
              0.7777777777777778,
              "#fb9f3a"
             ],
             [
              0.8888888888888888,
              "#fdca26"
             ],
             [
              1,
              "#f0f921"
             ]
            ],
            "type": "histogram2d"
           }
          ],
          "histogram2dcontour": [
           {
            "colorbar": {
             "outlinewidth": 0,
             "ticks": ""
            },
            "colorscale": [
             [
              0,
              "#0d0887"
             ],
             [
              0.1111111111111111,
              "#46039f"
             ],
             [
              0.2222222222222222,
              "#7201a8"
             ],
             [
              0.3333333333333333,
              "#9c179e"
             ],
             [
              0.4444444444444444,
              "#bd3786"
             ],
             [
              0.5555555555555556,
              "#d8576b"
             ],
             [
              0.6666666666666666,
              "#ed7953"
             ],
             [
              0.7777777777777778,
              "#fb9f3a"
             ],
             [
              0.8888888888888888,
              "#fdca26"
             ],
             [
              1,
              "#f0f921"
             ]
            ],
            "type": "histogram2dcontour"
           }
          ],
          "mesh3d": [
           {
            "colorbar": {
             "outlinewidth": 0,
             "ticks": ""
            },
            "type": "mesh3d"
           }
          ],
          "parcoords": [
           {
            "line": {
             "colorbar": {
              "outlinewidth": 0,
              "ticks": ""
             }
            },
            "type": "parcoords"
           }
          ],
          "pie": [
           {
            "automargin": true,
            "type": "pie"
           }
          ],
          "scatter": [
           {
            "fillpattern": {
             "fillmode": "overlay",
             "size": 10,
             "solidity": 0.2
            },
            "type": "scatter"
           }
          ],
          "scatter3d": [
           {
            "line": {
             "colorbar": {
              "outlinewidth": 0,
              "ticks": ""
             }
            },
            "marker": {
             "colorbar": {
              "outlinewidth": 0,
              "ticks": ""
             }
            },
            "type": "scatter3d"
           }
          ],
          "scattercarpet": [
           {
            "marker": {
             "colorbar": {
              "outlinewidth": 0,
              "ticks": ""
             }
            },
            "type": "scattercarpet"
           }
          ],
          "scattergeo": [
           {
            "marker": {
             "colorbar": {
              "outlinewidth": 0,
              "ticks": ""
             }
            },
            "type": "scattergeo"
           }
          ],
          "scattergl": [
           {
            "marker": {
             "colorbar": {
              "outlinewidth": 0,
              "ticks": ""
             }
            },
            "type": "scattergl"
           }
          ],
          "scattermapbox": [
           {
            "marker": {
             "colorbar": {
              "outlinewidth": 0,
              "ticks": ""
             }
            },
            "type": "scattermapbox"
           }
          ],
          "scatterpolar": [
           {
            "marker": {
             "colorbar": {
              "outlinewidth": 0,
              "ticks": ""
             }
            },
            "type": "scatterpolar"
           }
          ],
          "scatterpolargl": [
           {
            "marker": {
             "colorbar": {
              "outlinewidth": 0,
              "ticks": ""
             }
            },
            "type": "scatterpolargl"
           }
          ],
          "scatterternary": [
           {
            "marker": {
             "colorbar": {
              "outlinewidth": 0,
              "ticks": ""
             }
            },
            "type": "scatterternary"
           }
          ],
          "surface": [
           {
            "colorbar": {
             "outlinewidth": 0,
             "ticks": ""
            },
            "colorscale": [
             [
              0,
              "#0d0887"
             ],
             [
              0.1111111111111111,
              "#46039f"
             ],
             [
              0.2222222222222222,
              "#7201a8"
             ],
             [
              0.3333333333333333,
              "#9c179e"
             ],
             [
              0.4444444444444444,
              "#bd3786"
             ],
             [
              0.5555555555555556,
              "#d8576b"
             ],
             [
              0.6666666666666666,
              "#ed7953"
             ],
             [
              0.7777777777777778,
              "#fb9f3a"
             ],
             [
              0.8888888888888888,
              "#fdca26"
             ],
             [
              1,
              "#f0f921"
             ]
            ],
            "type": "surface"
           }
          ],
          "table": [
           {
            "cells": {
             "fill": {
              "color": "#EBF0F8"
             },
             "line": {
              "color": "white"
             }
            },
            "header": {
             "fill": {
              "color": "#C8D4E3"
             },
             "line": {
              "color": "white"
             }
            },
            "type": "table"
           }
          ]
         },
         "layout": {
          "annotationdefaults": {
           "arrowcolor": "#2a3f5f",
           "arrowhead": 0,
           "arrowwidth": 1
          },
          "autotypenumbers": "strict",
          "coloraxis": {
           "colorbar": {
            "outlinewidth": 0,
            "ticks": ""
           }
          },
          "colorscale": {
           "diverging": [
            [
             0,
             "#8e0152"
            ],
            [
             0.1,
             "#c51b7d"
            ],
            [
             0.2,
             "#de77ae"
            ],
            [
             0.3,
             "#f1b6da"
            ],
            [
             0.4,
             "#fde0ef"
            ],
            [
             0.5,
             "#f7f7f7"
            ],
            [
             0.6,
             "#e6f5d0"
            ],
            [
             0.7,
             "#b8e186"
            ],
            [
             0.8,
             "#7fbc41"
            ],
            [
             0.9,
             "#4d9221"
            ],
            [
             1,
             "#276419"
            ]
           ],
           "sequential": [
            [
             0,
             "#0d0887"
            ],
            [
             0.1111111111111111,
             "#46039f"
            ],
            [
             0.2222222222222222,
             "#7201a8"
            ],
            [
             0.3333333333333333,
             "#9c179e"
            ],
            [
             0.4444444444444444,
             "#bd3786"
            ],
            [
             0.5555555555555556,
             "#d8576b"
            ],
            [
             0.6666666666666666,
             "#ed7953"
            ],
            [
             0.7777777777777778,
             "#fb9f3a"
            ],
            [
             0.8888888888888888,
             "#fdca26"
            ],
            [
             1,
             "#f0f921"
            ]
           ],
           "sequentialminus": [
            [
             0,
             "#0d0887"
            ],
            [
             0.1111111111111111,
             "#46039f"
            ],
            [
             0.2222222222222222,
             "#7201a8"
            ],
            [
             0.3333333333333333,
             "#9c179e"
            ],
            [
             0.4444444444444444,
             "#bd3786"
            ],
            [
             0.5555555555555556,
             "#d8576b"
            ],
            [
             0.6666666666666666,
             "#ed7953"
            ],
            [
             0.7777777777777778,
             "#fb9f3a"
            ],
            [
             0.8888888888888888,
             "#fdca26"
            ],
            [
             1,
             "#f0f921"
            ]
           ]
          },
          "colorway": [
           "#636efa",
           "#EF553B",
           "#00cc96",
           "#ab63fa",
           "#FFA15A",
           "#19d3f3",
           "#FF6692",
           "#B6E880",
           "#FF97FF",
           "#FECB52"
          ],
          "font": {
           "color": "#2a3f5f"
          },
          "geo": {
           "bgcolor": "white",
           "lakecolor": "white",
           "landcolor": "#E5ECF6",
           "showlakes": true,
           "showland": true,
           "subunitcolor": "white"
          },
          "hoverlabel": {
           "align": "left"
          },
          "hovermode": "closest",
          "mapbox": {
           "style": "light"
          },
          "paper_bgcolor": "white",
          "plot_bgcolor": "#E5ECF6",
          "polar": {
           "angularaxis": {
            "gridcolor": "white",
            "linecolor": "white",
            "ticks": ""
           },
           "bgcolor": "#E5ECF6",
           "radialaxis": {
            "gridcolor": "white",
            "linecolor": "white",
            "ticks": ""
           }
          },
          "scene": {
           "xaxis": {
            "backgroundcolor": "#E5ECF6",
            "gridcolor": "white",
            "gridwidth": 2,
            "linecolor": "white",
            "showbackground": true,
            "ticks": "",
            "zerolinecolor": "white"
           },
           "yaxis": {
            "backgroundcolor": "#E5ECF6",
            "gridcolor": "white",
            "gridwidth": 2,
            "linecolor": "white",
            "showbackground": true,
            "ticks": "",
            "zerolinecolor": "white"
           },
           "zaxis": {
            "backgroundcolor": "#E5ECF6",
            "gridcolor": "white",
            "gridwidth": 2,
            "linecolor": "white",
            "showbackground": true,
            "ticks": "",
            "zerolinecolor": "white"
           }
          },
          "shapedefaults": {
           "line": {
            "color": "#2a3f5f"
           }
          },
          "ternary": {
           "aaxis": {
            "gridcolor": "white",
            "linecolor": "white",
            "ticks": ""
           },
           "baxis": {
            "gridcolor": "white",
            "linecolor": "white",
            "ticks": ""
           },
           "bgcolor": "#E5ECF6",
           "caxis": {
            "gridcolor": "white",
            "linecolor": "white",
            "ticks": ""
           }
          },
          "title": {
           "x": 0.05
          },
          "xaxis": {
           "automargin": true,
           "gridcolor": "white",
           "linecolor": "white",
           "ticks": "",
           "title": {
            "standoff": 15
           },
           "zerolinecolor": "white",
           "zerolinewidth": 2
          },
          "yaxis": {
           "automargin": true,
           "gridcolor": "white",
           "linecolor": "white",
           "ticks": "",
           "title": {
            "standoff": 15
           },
           "zerolinecolor": "white",
           "zerolinewidth": 2
          }
         }
        },
        "xaxis": {
         "anchor": "y",
         "domain": [
          0,
          1
         ],
         "title": {
          "text": "0"
         }
        },
        "yaxis": {
         "anchor": "x",
         "domain": [
          0,
          1
         ],
         "range": [
          0.944,
          0.945
         ],
         "title": {
          "text": "2"
         }
        }
       }
      }
     },
     "metadata": {},
     "output_type": "display_data"
    }
   ],
   "source": [
    "import plotly.express as px\n",
    "summary = pd.DataFrame(summary)\n",
    "px.line(data_frame=summary, x=0, y=2, range_y=[0.944, 0.945])"
   ]
  }
 ],
 "metadata": {
  "colab": {
   "authorship_tag": "ABX9TyMngqEA4vkVmDrAhIS+UpRO",
   "machine_shape": "hm",
   "mount_file_id": "16h1-QPy8CqZxntk_7ECGpHoljf-MbCaC",
   "provenance": []
  },
  "kernelspec": {
   "display_name": "base",
   "language": "python",
   "name": "python3"
  },
  "language_info": {
   "codemirror_mode": {
    "name": "ipython",
    "version": 3
   },
   "file_extension": ".py",
   "mimetype": "text/x-python",
   "name": "python",
   "nbconvert_exporter": "python",
   "pygments_lexer": "ipython3",
   "version": "3.12.3"
  }
 },
 "nbformat": 4,
 "nbformat_minor": 0
}
